{
 "cells": [
  {
   "cell_type": "markdown",
   "id": "954be991-9a90-4332-ae26-a5068f771c55",
   "metadata": {},
   "source": [
    "# Compute daily average for estimation of TTDs using MESAS"
   ]
  },
  {
   "cell_type": "markdown",
   "id": "5c985717",
   "metadata": {},
   "source": [
    "This notebook converts the hourly data to daily data to use the MESAS package."
   ]
  },
  {
   "cell_type": "code",
   "execution_count": 9,
   "id": "63626567-46c8-479f-94b2-90f485dcfb37",
   "metadata": {},
   "outputs": [],
   "source": [
    "import numpy as np\n",
    "import pandas as pd\n",
    "import sys\n",
    "import os\n",
    "import matplotlib.pyplot as plt\n",
    "sys.path.append('../../')\n",
    "import WATRES\n",
    "sites = ['Pully_small_storage','Pully_large_storage','Lugano_small_storage','Lugano_large_storage','Basel_small_storage','Basel_large_storage']\n",
    "\n",
    "def convert_data4MESAS(site):\n",
    "    df = pd.read_csv('../{0}/data/{0}.txt'.format(site), sep='\\t')\n",
    "    df['datetime'] = df['t'].apply(lambda x: WATRES.fractional_year_to_datetime(x))\n",
    "    # Step 1: Convert the 'datetime' column to datetime format\n",
    "    df['datetime'] = pd.to_datetime(df['datetime'], format='%Y-%m-%d-%H:%M:%S')\n",
    "\n",
    "\n",
    "    # Calculate the quartiles of the 'q' column\n",
    "    q_quantiles = df['q'][-365*24:].quantile([0.25, 0.5, 0.75]).to_dict() \n",
    "    for key, value in q_quantiles.items():\n",
    "        q_quantiles[key] = value * 24\n",
    "    \n",
    "    # Step 2: Set 'datetime' as the index for easier resampling\n",
    "    df.set_index('datetime', inplace=True)\n",
    "    \n",
    "    # Step 3: Resample the data to daily frequency and aggregate\n",
    "    # For columns 'p', 'pet', 'q', we compute the sum for each day\n",
    "    daily_data = df.resample('D').agg({\n",
    "        'p': 'sum',\n",
    "        'pet': 'sum',\n",
    "        'et': 'sum',\n",
    "        'q': 'sum'\n",
    "    })\n",
    "    \n",
    "    # For columns 'Cp' and 'Cq', compute the weighted average where the weights are given by 'p'\n",
    "    daily_data['Cp'] = df['Cp'].resample('D').apply(lambda x: (x * df.loc[x.index, 'p']).sum() / df.loc[x.index, 'p'].sum())\n",
    "    daily_data['Cq'] = df['Cq'].resample('D').apply(lambda x: (x * df.loc[x.index, 'q']).sum() / df.loc[x.index, 'q'].sum())\n",
    "    \n",
    "    # Reset index if you want 'datetime' to be a regular column\n",
    "    daily_data.reset_index(inplace=True)\n",
    "\n",
    "\n",
    "    \n",
    "    # Add columns for each quartile with 0 or 1 depending on which quartile the 'q' value belongs to\n",
    "    daily_data['Q_quantile_0'] = (daily_data['q'] <= q_quantiles[0.25]).astype(int)\n",
    "    daily_data['Q_quantile_1'] = ((daily_data['q'] > q_quantiles[0.25]) & (daily_data['q'] <= q_quantiles[0.5])).astype(int)\n",
    "    daily_data['Q_quantile_2'] = ((daily_data['q'] > q_quantiles[0.5]) & (daily_data['q'] <= q_quantiles[0.75])).astype(int)\n",
    "    daily_data['Q_quantile_3'] = (daily_data['q'] > q_quantiles[0.75]).astype(int)\n",
    "\n",
    "\n",
    "    # Now, daily_data contains the daily sum for p, pet, q, and the weighted averages for Cp and Cq.\n",
    "    daily_data.to_csv('../{0}/data/{0}_daily.txt'.format(site), index=False)"
   ]
  },
  {
   "cell_type": "code",
   "execution_count": 10,
   "id": "c5515d6f-9a9c-4fb8-b6d8-a9382bd07e5a",
   "metadata": {},
   "outputs": [
    {
     "name": "stderr",
     "output_type": "stream",
     "text": [
      "/tmp/ipykernel_1873/3575359864.py:35: RuntimeWarning: invalid value encountered in scalar divide\n",
      "  daily_data['Cp'] = df['Cp'].resample('D').apply(lambda x: (x * df.loc[x.index, 'p']).sum() / df.loc[x.index, 'p'].sum())\n",
      "/tmp/ipykernel_1873/3575359864.py:35: RuntimeWarning: invalid value encountered in scalar divide\n",
      "  daily_data['Cp'] = df['Cp'].resample('D').apply(lambda x: (x * df.loc[x.index, 'p']).sum() / df.loc[x.index, 'p'].sum())\n",
      "/tmp/ipykernel_1873/3575359864.py:35: RuntimeWarning: invalid value encountered in scalar divide\n",
      "  daily_data['Cp'] = df['Cp'].resample('D').apply(lambda x: (x * df.loc[x.index, 'p']).sum() / df.loc[x.index, 'p'].sum())\n",
      "/tmp/ipykernel_1873/3575359864.py:35: RuntimeWarning: invalid value encountered in scalar divide\n",
      "  daily_data['Cp'] = df['Cp'].resample('D').apply(lambda x: (x * df.loc[x.index, 'p']).sum() / df.loc[x.index, 'p'].sum())\n",
      "/tmp/ipykernel_1873/3575359864.py:35: RuntimeWarning: invalid value encountered in scalar divide\n",
      "  daily_data['Cp'] = df['Cp'].resample('D').apply(lambda x: (x * df.loc[x.index, 'p']).sum() / df.loc[x.index, 'p'].sum())\n",
      "/tmp/ipykernel_1873/3575359864.py:35: RuntimeWarning: invalid value encountered in scalar divide\n",
      "  daily_data['Cp'] = df['Cp'].resample('D').apply(lambda x: (x * df.loc[x.index, 'p']).sum() / df.loc[x.index, 'p'].sum())\n"
     ]
    }
   ],
   "source": [
    "for site in sites:\n",
    "    convert_data4MESAS(site)"
   ]
  },
  {
   "cell_type": "code",
   "execution_count": null,
   "id": "e5f88a66-84f5-41c7-b77c-bfc0c08a3619",
   "metadata": {},
   "outputs": [],
   "source": []
  }
 ],
 "metadata": {
  "kernelspec": {
   "display_name": "Python 3 (ipykernel)",
   "language": "python",
   "name": "python3"
  },
  "language_info": {
   "codemirror_mode": {
    "name": "ipython",
    "version": 3
   },
   "file_extension": ".py",
   "mimetype": "text/x-python",
   "name": "python",
   "nbconvert_exporter": "python",
   "pygments_lexer": "ipython3",
   "version": "3.10.12"
  }
 },
 "nbformat": 4,
 "nbformat_minor": 5
}
