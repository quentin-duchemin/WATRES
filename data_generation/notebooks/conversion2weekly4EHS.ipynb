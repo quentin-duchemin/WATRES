{
 "cells": [
  {
   "cell_type": "markdown",
   "id": "954be991-9a90-4332-ae26-a5068f771c55",
   "metadata": {},
   "source": [
    "# Compute weekly average for estimation of TTDs using EHS"
   ]
  },
  {
   "cell_type": "markdown",
   "id": "059fe204",
   "metadata": {},
   "source": [
    "This notebook converts the hourly data to weekly one to use the Ensemble Hydrograph Separation method."
   ]
  },
  {
   "cell_type": "code",
   "execution_count": 9,
   "id": "63626567-46c8-479f-94b2-90f485dcfb37",
   "metadata": {},
   "outputs": [],
   "source": [
    "import numpy as np\n",
    "import pandas as pd\n",
    "import sys\n",
    "import os\n",
    "import matplotlib.pyplot as plt\n",
    "sys.path.append('../../')\n",
    "import WATRES\n",
    "sites = ['Pully_small_storage','Pully_large_storage','Lugano_small_storage','Lugano_large_storage','Basel_small_storage','Basel_large_storage']\n",
    "\n",
    "def convert_data4EHS(site):\n",
    "    df = pd.read_csv('../{0}/data/{0}.txt'.format(site), sep='\\t')\n",
    "    df['datetime'] = df['t'].apply(lambda x: WATRES.fractional_year_to_datetime(x))\n",
    "    # Step 1: Convert the 'datetime' column to datetime format\n",
    "    df['datetime'] = pd.to_datetime(df['datetime'], format='%Y-%m-%d-%H:%M:%S')\n",
    "    \n",
    "    # Step 2: Set 'datetime' as the index for easier resampling\n",
    "    df.set_index('datetime', inplace=True)\n",
    "\n",
    "    # Calculate the quartiles of the 'q' column\n",
    "    q_quantiles = df['q'][-365*24:].quantile([0.25, 0.5, 0.75]).to_dict() \n",
    "    for key, value in q_quantiles.items():\n",
    "        q_quantiles[key] = value * 24 * 7\n",
    "    \n",
    "    # Step 3: Resample the data to weekly frequency and aggregate\n",
    "    # For columns 'p', 'pet', 'q', we compute the sum for each day\n",
    "    weekly_data = df.resample('W').agg({\n",
    "        'p': 'sum',\n",
    "        'pet': 'sum',\n",
    "        'q': 'sum'\n",
    "    })\n",
    "    \n",
    "    # For columns 'Cp' and 'Cq', compute the weighted average where the weights are given by 'p'\n",
    "    weekly_data['Cp'] = df['Cp'].resample('D').apply(lambda x: (x * df.loc[x.index, 'p']).sum() / df.loc[x.index, 'p'].sum())\n",
    "    weekly_data['Cq'] = df['Cq'].resample('D').apply(lambda x: (x * df.loc[x.index, 'q']).sum() / df.loc[x.index, 'q'].sum())\n",
    "    \n",
    "    # Reset index if you want 'datetime' to be a regular column\n",
    "    weekly_data.reset_index(inplace=True)\n",
    "    \n",
    "    # Add columns for each quartile with 0 or 1 depending on which quartile the 'q' value belongs to\n",
    "    weekly_data['Q_quantile_0'] = (weekly_data['q'] <= q_quantiles[0.25]).astype(int)\n",
    "    weekly_data['Q_quantile_1'] = ((weekly_data['q'] > q_quantiles[0.25]) & (weekly_data['q'] <= q_quantiles[0.5])).astype(int)\n",
    "    weekly_data['Q_quantile_2'] = ((weekly_data['q'] > q_quantiles[0.5]) & (weekly_data['q'] <= q_quantiles[0.75])).astype(int)\n",
    "    weekly_data['Q_quantile_3'] = (weekly_data['q'] > q_quantiles[0.75]).astype(int)\n",
    "\n",
    "\n",
    "    # Now, weekly_data contains the weekly sum for p, pet, q, and the weighted averages for Cp and Cq.\n",
    "    weekly_data.to_csv('../{0}/data/{0}_weekly_EHS.txt'.format(site), index=False)"
   ]
  },
  {
   "cell_type": "code",
   "execution_count": 10,
   "id": "c5515d6f-9a9c-4fb8-b6d8-a9382bd07e5a",
   "metadata": {},
   "outputs": [
    {
     "name": "stderr",
     "output_type": "stream",
     "text": [
      "/tmp/ipykernel_335/3857325416.py:33: RuntimeWarning: invalid value encountered in scalar divide\n",
      "  weekly_data['Cp'] = df['Cp'].resample('D').apply(lambda x: (x * df.loc[x.index, 'p']).sum() / df.loc[x.index, 'p'].sum())\n",
      "/tmp/ipykernel_335/3857325416.py:33: RuntimeWarning: invalid value encountered in scalar divide\n",
      "  weekly_data['Cp'] = df['Cp'].resample('D').apply(lambda x: (x * df.loc[x.index, 'p']).sum() / df.loc[x.index, 'p'].sum())\n",
      "/tmp/ipykernel_335/3857325416.py:33: RuntimeWarning: invalid value encountered in scalar divide\n",
      "  weekly_data['Cp'] = df['Cp'].resample('D').apply(lambda x: (x * df.loc[x.index, 'p']).sum() / df.loc[x.index, 'p'].sum())\n",
      "/tmp/ipykernel_335/3857325416.py:33: RuntimeWarning: invalid value encountered in scalar divide\n",
      "  weekly_data['Cp'] = df['Cp'].resample('D').apply(lambda x: (x * df.loc[x.index, 'p']).sum() / df.loc[x.index, 'p'].sum())\n",
      "/tmp/ipykernel_335/3857325416.py:33: RuntimeWarning: invalid value encountered in scalar divide\n",
      "  weekly_data['Cp'] = df['Cp'].resample('D').apply(lambda x: (x * df.loc[x.index, 'p']).sum() / df.loc[x.index, 'p'].sum())\n",
      "/tmp/ipykernel_335/3857325416.py:33: RuntimeWarning: invalid value encountered in scalar divide\n",
      "  weekly_data['Cp'] = df['Cp'].resample('D').apply(lambda x: (x * df.loc[x.index, 'p']).sum() / df.loc[x.index, 'p'].sum())\n"
     ]
    }
   ],
   "source": [
    "for site in sites:\n",
    "    convert_data4EHS(site)"
   ]
  },
  {
   "cell_type": "markdown",
   "id": "c97cb80a-6689-452f-a40f-bb12488fb187",
   "metadata": {},
   "source": [
    "# Looking at the TTD from EHS"
   ]
  },
  {
   "cell_type": "code",
   "execution_count": 11,
   "id": "36058f3b-a83b-4bc7-ae65-c3102628dd4a",
   "metadata": {},
   "outputs": [
    {
     "data": {
      "text/plain": [
       "<Figure size 640x480 with 0 Axes>"
      ]
     },
     "metadata": {},
     "output_type": "display_data"
    }
   ],
   "source": [
    "site = sites[0]\n",
    "pathEHS = '../{0}/save/'.format(site)\n",
    "\n",
    "plt.figure()\n",
    "for k in range(3):\n",
    "    dfEHS = pd.read_csv(os.path.join(pathEHS, 'EHS_quantile{0}.txt'.format(k)), sep=\" \")"
   ]
  },
  {
   "cell_type": "code",
   "execution_count": 12,
   "id": "ec7bfa31-4d40-4afa-9931-2851bef16544",
   "metadata": {},
   "outputs": [
    {
     "data": {
      "text/plain": [
       "[<matplotlib.lines.Line2D at 0x7f4063ba4830>]"
      ]
     },
     "execution_count": 12,
     "metadata": {},
     "output_type": "execute_result"
    },
    {
     "data": {
      "image/png": "[encoded data removed]",
      "text/plain": [
       "<Figure size 640x480 with 1 Axes>"
      ]
     },
     "metadata": {},
     "output_type": "display_data"
    }
   ],
   "source": [
    "plt.plot(dfEHS['TTD_lag'], np.cumsum(dfEHS['QquantileTTD.TTD'])) "
   ]
  }
 ],
 "metadata": {
  "kernelspec": {
   "display_name": "Python 3 (ipykernel)",
   "language": "python",
   "name": "python3"
  },
  "language_info": {
   "codemirror_mode": {
    "name": "ipython",
    "version": 3
   },
   "file_extension": ".py",
   "mimetype": "text/x-python",
   "name": "python",
   "nbconvert_exporter": "python",
   "pygments_lexer": "ipython3",
   "version": "3.10.12"
  }
 },
 "nbformat": 4,
 "nbformat_minor": 5
}
