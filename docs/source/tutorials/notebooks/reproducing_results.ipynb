{
 "cells": [
  {
   "cell_type": "markdown",
   "id": "94a34456",
   "metadata": {},
   "source": [
    "Reproducing results of our paper\n",
    "===========================\n",
    "\n",
    "\n",
    "This note explains in a nutshell how to reproduce results of our paper."
   ]
  },
  {
   "cell_type": "markdown",
   "id": "a7ec8115",
   "metadata": {},
   "source": [
    "## 1. Download the data and pre-trained models\n",
    "\n",
    "The \"data\" folder, which contains the datasets and models for the synthetic watersheds analyzed in our paper, can be downloaded from Zenodo (see the DOI provided in the paper).\n",
    "\n",
    "This folder should be placed in the root directory of the package."
   ]
  },
  {
   "cell_type": "markdown",
   "id": "1a4219b0",
   "metadata": {},
   "source": [
    "## 2. Run the notebook `reproducing_figures_paper.ipynb` in the notebook folder to reproduce figures of our paper."
   ]
  }
 ],
 "metadata": {
  "kernelspec": {
   "display_name": "Python 3 (ipykernel)",
   "language": "python",
   "name": "python3"
  },
  "language_info": {
   "codemirror_mode": {
    "name": "ipython",
    "version": 3
   },
   "file_extension": ".py",
   "mimetype": "text/x-python",
   "name": "python",
   "nbconvert_exporter": "python",
   "pygments_lexer": "ipython3",
   "version": "3.10.12"
  }
 },
 "nbformat": 4,
 "nbformat_minor": 5
}
