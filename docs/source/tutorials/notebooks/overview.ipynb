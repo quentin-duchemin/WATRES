{
 "cells": [
  {
   "cell_type": "markdown",
   "metadata": {},
   "source": [
    "WATRES in practice: A brief overview\n",
    "=============================="
   ]
  },
  {
   "cell_type": "markdown",
   "metadata": {},
   "source": [
    "### Typical File Structure for WATRES\n",
    "\n",
    "```plaintext\n",
    "your_personal_folder/\n",
    "├── WATRES/\n",
    "│   ├── dataset.py\n",
    "│   ├── WATRES.py\n",
    "│   └── results.py\n",
    "├── data/\n",
    "│   └── mysite/\n",
    "│       ├── data/\n",
    "│       │   └── mysite.txt\n",
    "│       └── save/\n",
    "│           ├── save_myexperiment_WATRES.pth.tar\n",
    "│           └── results_myexperiment_WATRES.pkl\n",
    "├── scripts/\n",
    "│   ├── train_models.py\n",
    "│   └── compute_results.py\n",
    "```\n",
    "    \n",
    "\n",
    "### Folder Structure for Using the WATRES Package\n",
    "\n",
    "To properly use the WATRES package, you should have a folder for each site with the following structure:\n",
    "\n",
    "- In the `data` folder, you should have a folder named `{mysite}`.\n",
    "- Inside this folder, you should have two subfolders:\n",
    "  - **`data/`**:  \n",
    "    This subfolder should store the data file named `{mysite}.txt`.\n",
    "    - For simulated data:  \n",
    "      - If the true transit time distributions have been computed, you can save them in this data folder.\n",
    "  - **`save/`**:  \n",
    "    This subfolder will store: \n",
    "       - the trained models: `save_myexperiment_WATRES.pth.tar`\n",
    "       - the results on training/test data of this model: `results_myexperiment_WATRES.pkl`. This file contains various statistics on the results of a trained model, created when running the script `compute_results.py`."
   ]
  },
  {
   "cell_type": "markdown",
   "metadata": {},
   "source": [
    "![Screen shot of an example of simulated data.](../../_static/gamcr_readme.png)"
   ]
  }
 ],
 "metadata": {
  "kernelspec": {
   "display_name": "Python 3 (ipykernel)",
   "language": "python",
   "name": "python3"
  },
  "language_info": {
   "codemirror_mode": {
    "name": "ipython",
    "version": 3
   },
   "file_extension": ".py",
   "mimetype": "text/x-python",
   "name": "python",
   "nbconvert_exporter": "python",
   "pygments_lexer": "ipython3",
   "version": "3.10.12"
  }
 },
 "nbformat": 4,
 "nbformat_minor": 4
}
